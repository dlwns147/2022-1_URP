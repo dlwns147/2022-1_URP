{
 "cells": [
  {
   "cell_type": "code",
   "execution_count": 1,
   "metadata": {},
   "outputs": [],
   "source": [
    "import os, imageio\n",
    "def make_mp4(mp4_path, img_path):\n",
    "\n",
    "    writer = imageio.get_writer(mp4_path, fps=20) # ex) \"./videos/test.mp4\"\n",
    "\n",
    "    for path in sorted(os.listdir(img_path)):\n",
    "        writer.append_data(imageio.imread(os.path.join(img_path, path)))\n",
    "    writer.close()"
   ]
  },
  {
   "cell_type": "code",
   "execution_count": null,
   "metadata": {},
   "outputs": [],
   "source": [
    "for i in range(6, 47):\n",
    "    make_mp4(\"./inference_vid/clip{:03d}\".format(i), f\"./runs/detect/exp{i}\")\n",
    "    "
   ]
  }
 ],
 "metadata": {
  "interpreter": {
   "hash": "86018ccfa89610374296137c1478da67f4242acf87896eca288aa5e65305f8ba"
  },
  "kernelspec": {
   "display_name": "Python 3.7.11 64-bit ('AGC': conda)",
   "language": "python",
   "name": "python3"
  },
  "language_info": {
   "codemirror_mode": {
    "name": "ipython",
    "version": 3
   },
   "file_extension": ".py",
   "mimetype": "text/x-python",
   "name": "python",
   "nbconvert_exporter": "python",
   "pygments_lexer": "ipython3",
   "version": "3.7.11"
  },
  "orig_nbformat": 4
 },
 "nbformat": 4,
 "nbformat_minor": 2
}
